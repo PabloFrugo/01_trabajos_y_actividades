{
 "cells": [
  {
   "cell_type": "markdown",
   "metadata": {},
   "source": [
    "1 - Crar una función llamada \"usuario\" que reciba como parámetros un nombre y devuelva un mensaje \"Bienvenido al sistema {nombre}\".\n",
    "2 - Llamar a la función \"usuario\"."
   ]
  },
  {
   "cell_type": "code",
   "execution_count": 5,
   "metadata": {},
   "outputs": [
    {
     "name": "stdout",
     "output_type": "stream",
     "text": [
      "Bienvenido al sistema Pablo\n"
     ]
    }
   ],
   "source": [
    "def usuario(nombre):\n",
    "    return f\"Bienvenido al sistema {nombre}\"\n",
    "\n",
    "mensaje = usuario(\"Pablo\")\n",
    "print(mensaje)"
   ]
  },
  {
   "cell_type": "markdown",
   "metadata": {},
   "source": [
    "3 - Excribe una fnción que tome dos números como argumentos y devuelva su suma."
   ]
  },
  {
   "cell_type": "code",
   "execution_count": 6,
   "metadata": {},
   "outputs": [
    {
     "name": "stdout",
     "output_type": "stream",
     "text": [
      "43\n"
     ]
    }
   ],
   "source": [
    "def sumar(a, b):\n",
    "    return a + b\n",
    "resultado = sumar(14, 29)\n",
    "print(resultado)"
   ]
  },
  {
   "cell_type": "markdown",
   "metadata": {},
   "source": [
    "4 - Crea una función que reciba dos números y una operación (suma, resta, multiplicación, división) y devuelva el resultado."
   ]
  },
  {
   "cell_type": "code",
   "execution_count": 8,
   "metadata": {},
   "outputs": [
    {
     "name": "stdout",
     "output_type": "stream",
     "text": [
      "El resultado de la multiplicación de ambos números es 50\n"
     ]
    }
   ],
   "source": [
    "def mult(a, b):\n",
    "    return a * b\n",
    "num1 = int(input(\"Ingrese el primer número: \"))\n",
    "num2 = int(input(\"Ingrese el segundo número \"))\n",
    "resultado = mult(num1, num2)\n",
    "print(f\"El resultado de la multiplicación de ambos números es {resultado}\")"
   ]
  },
  {
   "cell_type": "markdown",
   "metadata": {},
   "source": [
    "5 - Conversor de moneda: crea una función que convierta de pesos a dólares, que reciba como parámetro la cantidad de pesos y el valor del dólar y devuelva la cantidad de dólares."
   ]
  },
  {
   "cell_type": "code",
   "execution_count": 15,
   "metadata": {},
   "outputs": [
    {
     "name": "stdout",
     "output_type": "stream",
     "text": [
      "La cantidad $3500 equivale a USD3.2749150861302665\n"
     ]
    }
   ],
   "source": [
    "def valor_dolar(pesos, dolar):\n",
    "    return pesos / dolar\n",
    "\n",
    "cantidad_pesos = int(input(\"Ingrese la cantidad de pesos que quiera convertir a dolares: \"))\n",
    "valor_dolar_hoy = float(input(\"Ingrese el valor del dolar hoy: \"))\n",
    "cantidad_dolares = valor_dolar(cantidad_pesos, valor_dolar_hoy)\n",
    "print(f\"La cantidad ${cantidad_pesos} equivale a USD{cantidad_dolares}\")"
   ]
  },
  {
   "cell_type": "markdown",
   "metadata": {},
   "source": [
    "6 - Excribe una función que tome una lista de números como argumento y devuelva la suma de los números positivos y la suma de los núemros negativos en una tupla."
   ]
  },
  {
   "cell_type": "code",
   "execution_count": 19,
   "metadata": {},
   "outputs": [
    {
     "name": "stdout",
     "output_type": "stream",
     "text": [
      "El resultado de la suma de los positivos es 85 y los negativos es -82\n"
     ]
    }
   ],
   "source": [
    "def sumar_numeros(lista_numeros):\n",
    "    positivos = []\n",
    "    negativos = []\n",
    "    for i in lista_numeros:\n",
    "        if i > 0:\n",
    "            positivos.append(i)\n",
    "        elif i < 0:\n",
    "            negativos.append(i)\n",
    "    suma_positivos = sum(positivos)\n",
    "    suma_negativos = sum(negativos)\n",
    "    return (suma_positivos, suma_negativos)\n",
    "\n",
    "numeros_ingresados = [10, -12, 50, -35, 5, 20, -35]\n",
    "resultado = sumar_numeros(numeros_ingresados)\n",
    "print(f\"El resultado de la suma de los positivos es {resultado[0]} y los negativos es {resultado[1]}\")"
   ]
  },
  {
   "cell_type": "markdown",
   "metadata": {},
   "source": [
    "7 - Crea una función que reciba un número como parámetro y devuelva True si es primo y False si no lo es."
   ]
  },
  {
   "cell_type": "code",
   "execution_count": null,
   "metadata": {},
   "outputs": [],
   "source": [
    "def es_primo(numero):\n",
    "    if numero == 1:\n",
    "        return False\n",
    "    elif numero == 2:\n",
    "        return True\n",
    "    else:\n",
    "        for i in range(2, numero):\n",
    "            if numero % i == 0:\n",
    "                return False\n",
    "        return True\n",
    "num = int(input(\"Ingrese un número: \"))\n",
    "print(es_primo(num))"
   ]
  },
  {
   "cell_type": "markdown",
   "metadata": {},
   "source": [
    "8 - Escribe una función que tome una lista de números como argumento y devuelva el número más grande y el número más pequeño en una tupla."
   ]
  },
  {
   "cell_type": "code",
   "execution_count": 23,
   "metadata": {},
   "outputs": [
    {
     "name": "stdout",
     "output_type": "stream",
     "text": [
      "El valor máximo es 8 y el valor mínimo es 1\n"
     ]
    }
   ],
   "source": [
    "def max_min(lista_numeros):\n",
    "    maximo = max(lista_numeros)\n",
    "    minimo = min(lista_numeros)\n",
    "    return (maximo, minimo)\n",
    "\n",
    "numeros =  [3, 5, 7, 2, 8, 1, 4, 6]\n",
    "resultado = max_min(numeros)\n",
    "print(f\"El valor máximo es {resultado[0]} y el valor mínimo es {resultado[1]}\")"
   ]
  }
 ],
 "metadata": {
  "kernelspec": {
   "display_name": "Python 3",
   "language": "python",
   "name": "python3"
  },
  "language_info": {
   "codemirror_mode": {
    "name": "ipython",
    "version": 3
   },
   "file_extension": ".py",
   "mimetype": "text/x-python",
   "name": "python",
   "nbconvert_exporter": "python",
   "pygments_lexer": "ipython3",
   "version": "3.12.3"
  }
 },
 "nbformat": 4,
 "nbformat_minor": 2
}
