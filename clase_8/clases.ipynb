{
 "cells": [
  {
   "cell_type": "markdown",
   "metadata": {},
   "source": [
    "1 - Crea la clase base \"Persona\" con los siguiemntes atributos: nombre, edad. Incluir un constructor que inicialice los atributos."
   ]
  },
  {
   "cell_type": "code",
   "execution_count": 2,
   "metadata": {},
   "outputs": [
    {
     "name": "stdout",
     "output_type": "stream",
     "text": [
      "El nombre de la persona es Pablo y tiene 31 años de edad.\n"
     ]
    }
   ],
   "source": [
    "class Persona:\n",
    "    def __init__(self, nombre, edad):\n",
    "        self.nombre = nombre\n",
    "        self.edad = edad\n",
    "    def datos(self):\n",
    "        print(f\"El nombre de la persona es {self.nombre} y tiene {self.edad} años de edad.\")\n",
    "\n",
    "persona = Persona(\"Pablo\", 31)\n",
    "\n",
    "persona.datos()"
   ]
  },
  {
   "cell_type": "markdown",
   "metadata": {},
   "source": [
    "2 - Crear la clase base \"Vehículo\" con los siguientes atributos: marca, modelo. Incluir un constructor que inicialice los atributos."
   ]
  },
  {
   "cell_type": "code",
   "execution_count": null,
   "metadata": {},
   "outputs": [
    {
     "name": "stdout",
     "output_type": "stream",
     "text": [
      "La marca del vehículo es Nissan y el modelo es Pathfinder.\n"
     ]
    }
   ],
   "source": [
    "class Vehículo:\n",
    "    def __init__(self, marca, modelo):\n",
    "        self.marca = marca\n",
    "        self.modelo = modelo\n",
    "    def info(self):\n",
    "        print(f\"La marca del vehículo es {self.marca} y el modelo es {self.modelo}.\")\n",
    "\n",
    "auto = Vehículo(\"Nissan\", \"Pathfinder\")\n",
    "\n",
    "auto.info()"
   ]
  },
  {
   "cell_type": "markdown",
   "metadata": {},
   "source": [
    "3 - Crea la clase base \"Animal\" con los siguientes atributos: nombre, edad, especie. Incluir un constructor que inicialice los atributos."
   ]
  },
  {
   "cell_type": "code",
   "execution_count": 6,
   "metadata": {},
   "outputs": [
    {
     "name": "stdout",
     "output_type": "stream",
     "text": [
      "El nombre del animal es Boris, tiene 4 años de edad y su especie es Gato.\n"
     ]
    }
   ],
   "source": [
    "class Animal:\n",
    "    def __init__(self, nombre, edad, especie):\n",
    "        self.nombre = nombre\n",
    "        self.edad = edad\n",
    "        self.especie = especie\n",
    "    def libreta(self):\n",
    "        print(f\"El nombre del animal es {self.nombre}, tiene {self.edad} años de edad y su especie es {self.especie}.\")\n",
    "\n",
    "gato = Animal(\"Boris\", 4, \"Gato\")\n",
    "\n",
    "gato.libreta()"
   ]
  },
  {
   "cell_type": "markdown",
   "metadata": {},
   "source": [
    "4 - Crea una clase \"Estudiante\" que herede de \"Persona\" y tenga un atributo adicional \"escuela\". Agregar métodos para imprimir la información del estudiante."
   ]
  },
  {
   "cell_type": "code",
   "execution_count": 7,
   "metadata": {},
   "outputs": [
    {
     "name": "stdout",
     "output_type": "stream",
     "text": [
      "El nombre del estudiante es Pablo, tiene 31 años y asiste a la escuela Politécnico Malvinas Argentinas.\n"
     ]
    }
   ],
   "source": [
    "class Estudiante(Persona):\n",
    "    def __init__(self, nombre, edad, escuela):\n",
    "        super().__init__(nombre, edad)\n",
    "        self.escuela = escuela\n",
    "    def informe(self):\n",
    "        print(f\"El nombre del estudiante es {self.nombre}, tiene {self.edad} años y asiste a la escuela {self.escuela}.\")\n",
    "\n",
    "estudiante = Estudiante(\"Pablo\", 31, \"Politécnico Malvinas Argentinas\")\n",
    "estudiante.informe()"
   ]
  },
  {
   "cell_type": "markdown",
   "metadata": {},
   "source": [
    "5 - Crea una clase \"Empleado\" que herede de \"Persona\" y tenga atributos adicionales como \"empresa\" y \"puesto\". Agregar métodos para impirmir la información del empleado."
   ]
  },
  {
   "cell_type": "code",
   "execution_count": 9,
   "metadata": {},
   "outputs": [
    {
     "name": "stdout",
     "output_type": "stream",
     "text": [
      "Nombre: Pablo - Edad: 31 - Empresa: AcSur.SA - Puesto: Inspector de Control de Calidad\n"
     ]
    }
   ],
   "source": [
    "class Empleado(Persona):\n",
    "    def __init__(self, nombre, edad, empresa, puesto):\n",
    "        super().__init__(nombre, edad)\n",
    "        self.empresa = empresa\n",
    "        self.puesto = puesto\n",
    "    def legajo(self):\n",
    "        print(f\"Nombre: {self.nombre} - Edad: {self.edad} - Empresa: {self.empresa} - Puesto: {self.puesto}\")\n",
    "\n",
    "empleado = Empleado(\"Pablo\", 31, \"AcSur.SA\", \"Inspector de Control de Calidad\")\n",
    "empleado.legajo()"
   ]
  },
  {
   "cell_type": "markdown",
   "metadata": {},
   "source": [
    "6 - Crea una clase \"Coche\" que herede de \"Vehículo\" y tenga atributos adicionales como \"color\" y \"velocidad\". Agregar métodos para imprimir la información del coche."
   ]
  },
  {
   "cell_type": "code",
   "execution_count": 11,
   "metadata": {},
   "outputs": [
    {
     "name": "stdout",
     "output_type": "stream",
     "text": [
      "El auto es de la marca Fiat y su modelo es Palio, es de color Gris y alcanza una velocidad punta de 220Km/h.\n"
     ]
    }
   ],
   "source": [
    "class Coche(Vehículo):\n",
    "    def __init__(self, marca, modelo, color, velocidad):\n",
    "        super().__init__(marca, modelo)\n",
    "        self.color = color\n",
    "        self.velocidad = velocidad\n",
    "    def caracteristicas(self):\n",
    "        print(f\"El auto es de la marca {self.marca} y su modelo es {self.modelo}, es de color {self.color} y alcanza una velocidad punta de {self.velocidad}Km/h.\")\n",
    "\n",
    "auto = Coche(\"Fiat\", \"Palio\", \"Gris\", 220)\n",
    "auto.caracteristicas()"
   ]
  },
  {
   "cell_type": "markdown",
   "metadata": {},
   "source": [
    "7 - Crea una clase \"Perro\" que herede de \"Animal\" y tenga un atributo adicional \"raza\". Agrega métodos para imprimir la información del perro."
   ]
  },
  {
   "cell_type": "code",
   "execution_count": 16,
   "metadata": {},
   "outputs": [
    {
     "name": "stdout",
     "output_type": "stream",
     "text": [
      "Nombre: Luna\n",
      "Edad: 10\n",
      "Especie: Canina\n",
      "Raza: Golden Retriever\n"
     ]
    }
   ],
   "source": [
    "class Perro(Animal):\n",
    "    def __init__ (self, nombre, edad, especie, raza):\n",
    "        super().__init__(nombre, edad, especie)\n",
    "        self.raza = raza\n",
    "    def info(self):\n",
    "        print(f\"Nombre: {self.nombre}\\nEdad: {self.edad}\\nEspecie: {self.especie}\\nRaza: {self.raza}\")\n",
    "\n",
    "perro = Perro(\"Luna\", 10, \"Canina\", \"Golden Retriever\")\n",
    "perro.info()"
   ]
  },
  {
   "cell_type": "markdown",
   "metadata": {},
   "source": [
    "8 - Crea una clase \"EstudianteUniversitario\" que herede de \"Estudiante\" y tenga atributos adicionales como \"carrera\" y \"semestre\". Agregar métodos para imprimir la información del estudiante universitario."
   ]
  },
  {
   "cell_type": "code",
   "execution_count": 19,
   "metadata": {},
   "outputs": [
    {
     "name": "stdout",
     "output_type": "stream",
     "text": [
      "Nombre: Pablo\n",
      "Edad: 31\n",
      "Universidad: Politécnico Malvinas Argentinas\n",
      "Carrera: Ciencia de Datos e Inteligencia Artificial\n",
      "Semestre: Segundo\n"
     ]
    }
   ],
   "source": [
    "class EstudianteUniversitario(Estudiante):\n",
    "    def __init__(self, nombre, edad, escuela, carrera, semestre):\n",
    "        super().__init__(nombre, edad, escuela)\n",
    "        self.carrera = carrera\n",
    "        self.semestre = semestre\n",
    "    def legajo_academico(self):\n",
    "        print(f\"Nombre: {self.nombre}\\nEdad: {self.edad}\\nUniversidad: {self.escuela}\\nCarrera: {self.carrera}\\nSemestre: {self.semestre}\")\n",
    "\n",
    "academico = EstudianteUniversitario(\"Pablo\", 31, \"Politécnico Malvinas Argentinas\", \"Ciencia de Datos e Inteligencia Artificial\", \"Segundo\")\n",
    "academico.legajo_academico()"
   ]
  },
  {
   "cell_type": "markdown",
   "metadata": {},
   "source": [
    "9 - Crea una clase \"Camioneta\" que herede de \"Vehículo\" y tenga un atributo adicional \"capacidad_carga\". Agrega métodos para imprimir la información de la camioneta."
   ]
  },
  {
   "cell_type": "code",
   "execution_count": 20,
   "metadata": {},
   "outputs": [
    {
     "name": "stdout",
     "output_type": "stream",
     "text": [
      "La camioneta pertenece a la marca Nissan, su modelo es Pathfinder y tiene una capacidad de carga de 500Kg\n"
     ]
    }
   ],
   "source": [
    "class Camioneta(Vehículo):\n",
    "    def __init__(self, marca, modelo, capacidad_carga):\n",
    "        super().__init__(marca, modelo)\n",
    "        self.capacidad_carga = capacidad_carga\n",
    "    def caract(self):\n",
    "        print(f\"La camioneta pertenece a la marca {self.marca}, su modelo es {self.modelo} y tiene una capacidad de carga de {self.capacidad_carga}Kg\")\n",
    "camioneta = Camioneta(\"Nissan\", \"Pathfinder\", 500)\n",
    "camioneta.caract()"
   ]
  },
  {
   "cell_type": "markdown",
   "metadata": {},
   "source": [
    "10 - Crea una clase \"Profesor\" que herede de \"Empleado\" y tenga atributos adicionales como \"materia\" y \"experiencia\". Agregar métodos para imprimir la información del profesor."
   ]
  },
  {
   "cell_type": "code",
   "execution_count": 22,
   "metadata": {},
   "outputs": [
    {
     "name": "stdout",
     "output_type": "stream",
     "text": [
      "Nombre: Pablo\n",
      "Edad: 31\n",
      "Escuela: N° 35\n",
      "Cargo: Técnico en Informática\n",
      "Asignatura: Cmputación\n",
      "Años de Experiencia: 5\n"
     ]
    }
   ],
   "source": [
    "class Profesor(Empleado):\n",
    "    def __init__(self, nombre, edad, empresa, puesto, materia, experiencia):\n",
    "        super().__init__(nombre, edad, empresa, puesto)\n",
    "        self.materia = materia\n",
    "        self.experiencia = experiencia\n",
    "    def curriculum(self):\n",
    "        print(f\"Nombre: {self.nombre}\\nEdad: {self.edad}\\nEscuela: {self.empresa}\\nCargo: {self.puesto}\\nAsignatura: {self.materia}\\nAños de Experiencia: {self.experiencia}\")\n",
    "profesor = Profesor(\"Pablo\", 31, \"N° 35\", \"Técnico en Informática\", \"Cmputación\", 5)\n",
    "profesor.curriculum()"
   ]
  },
  {
   "cell_type": "markdown",
   "metadata": {},
   "source": [
    "11 - Crea una clase \"Motocicleta\" que herede de \"Vehículo\" y tenga atributos adicionales como \"cilindrada\" y \"color\". Agregar métodos para imprimir la información de la motocicleta."
   ]
  },
  {
   "cell_type": "code",
   "execution_count": 25,
   "metadata": {},
   "outputs": [
    {
     "name": "stdout",
     "output_type": "stream",
     "text": [
      "Marca: Benelli\n",
      "Modelo: 752S\n",
      "Color: Negro\n",
      "Cilidrada: 754 cc\n"
     ]
    }
   ],
   "source": [
    "class Motocicleta(Vehículo):\n",
    "    def __init__(self, marca, modelo, color, cilindrada):\n",
    "        super().__init__(marca, modelo)\n",
    "        self.color = color\n",
    "        self.cilindrada = cilindrada\n",
    "    def information(self):\n",
    "        print(f\"Marca: {self.marca}\\nModelo: {self.modelo}\\nColor: {self.color}\\nCilidrada: {self.cilindrada} cc\")\n",
    "moto = Motocicleta(\"Benelli\", \"752S\", \"Negro\", 754)\n",
    "moto.information()"
   ]
  },
  {
   "cell_type": "markdown",
   "metadata": {},
   "source": [
    "12 - Crea una clase \"Ave\" que herede de \"Animal\" y tenga atributos adicionales como \"habitat\". Agregar métodos para impirmir la información del ave."
   ]
  },
  {
   "cell_type": "code",
   "execution_count": 26,
   "metadata": {},
   "outputs": [
    {
     "name": "stdout",
     "output_type": "stream",
     "text": [
      "Nombre: Cucu\n",
      "Edad: 5\n",
      "Especie: Loro\n",
      "Habitat: Selva\n"
     ]
    }
   ],
   "source": [
    "class Ave(Animal):\n",
    "    def __init__(self, nombre, edad, especie, habitat):\n",
    "        super().__init__(nombre, edad, especie)\n",
    "        self.habitat = habitat\n",
    "    def libretita(self):\n",
    "        print(f\"Nombre: {self.nombre}\\nEdad: {self.edad}\\nEspecie: {self.especie}\\nHabitat: {self.habitat}\")\n",
    "pajaro = Ave(\"Cucu\", 5, \"Loro\", \"Selva\")\n",
    "pajaro.libretita()"
   ]
  },
  {
   "cell_type": "markdown",
   "metadata": {},
   "source": [
    "13 - Crea una clase \"Cliente\" que herede de \"Persona\" y tenga atributos adicionales como \"dirección\" y \"teléfono\". Agrega métodos para imprimir la información del cliente."
   ]
  },
  {
   "cell_type": "code",
   "execution_count": 27,
   "metadata": {},
   "outputs": [
    {
     "name": "stdout",
     "output_type": "stream",
     "text": [
      "Nombre: Pablo\n",
      "Edad: 31\n",
      "Dirección: Calle 123\n",
      "Teléfono: 1234567\n"
     ]
    }
   ],
   "source": [
    "class Cliente(Persona):\n",
    "    def __init__ (self, nombre, edad, direccion, telefono):\n",
    "        super().__init__(nombre, edad)\n",
    "        self.direccion = direccion\n",
    "        self.telefono = telefono\n",
    "    def mostrar_datos(self):\n",
    "        print(f\"Nombre: {self.nombre}\\nEdad: {self.edad}\\nDirección: {self.direccion}\\nTeléfono: {self.telefono}\")\n",
    "cliente = Cliente(\"Pablo\", 31, \"Calle 123\", 1234567)\n",
    "cliente.mostrar_datos()"
   ]
  },
  {
   "cell_type": "markdown",
   "metadata": {},
   "source": [
    "14 - Crea una clase \"Bicicleta\" que herede de \"Vehículo\" y tenga atributos adicionales como \"tipo\"."
   ]
  },
  {
   "cell_type": "code",
   "execution_count": 28,
   "metadata": {},
   "outputs": [
    {
     "name": "stdout",
     "output_type": "stream",
     "text": [
      "Marca: Scott\n",
      "Modelo: Rodado 29\n",
      "Tipo: Urbana\n"
     ]
    }
   ],
   "source": [
    "class Bicicleta(Vehículo):\n",
    "    def __init__(self, marca, modelo, tipo):\n",
    "        super().__init__(marca, modelo)\n",
    "        self.tipo = tipo\n",
    "    def data(self):\n",
    "        print(f\"Marca: {self.marca}\\nModelo: {self.modelo}\\nTipo: {self.tipo}\")\n",
    "bici = Bicicleta(\"Scott\", \"Rodado 29\", \"Urbana\")\n",
    "bici.data()"
   ]
  }
 ],
 "metadata": {
  "kernelspec": {
   "display_name": "Python 3",
   "language": "python",
   "name": "python3"
  },
  "language_info": {
   "codemirror_mode": {
    "name": "ipython",
    "version": 3
   },
   "file_extension": ".py",
   "mimetype": "text/x-python",
   "name": "python",
   "nbconvert_exporter": "python",
   "pygments_lexer": "ipython3",
   "version": "3.12.3"
  }
 },
 "nbformat": 4,
 "nbformat_minor": 2
}
