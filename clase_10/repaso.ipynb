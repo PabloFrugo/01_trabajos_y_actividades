{
 "cells": [
  {
   "cell_type": "markdown",
   "metadata": {},
   "source": [
    "1 - Implementar un sistema de pagos que incluya las siguientes clases:\n",
    "    ● Empleado: clase base con el método calcular_salario().\n",
    "    ● EmpleadoAsalariado: hereda de Empleado e implementa el método\n",
    "    calcular_salario() considerando un salario fijo.\n",
    "    ● EmpleadoPorHoras: hereda de Empleado e implementa el método\n",
    "    calcular_salario() considerando el número de horas trabajadas y la\n",
    "    tarifa por hora.\n",
    "    ● EmpleadoComision: hereda de Empleado e implementa el método\n",
    "    calcular_salario() considerando un salario base y una comisión por\n",
    "    ventas.\n",
    "    \n",
    "    Crea una lista de empleados de diferentes tipos y utiliza el polimorfismo\n",
    "    para calcular el salario de cada uno llamando al método calcular_salario()."
   ]
  },
  {
   "cell_type": "code",
   "execution_count": 3,
   "metadata": {},
   "outputs": [
    {
     "name": "stdout",
     "output_type": "stream",
     "text": [
      "El salario de Juan es: 3000\n",
      "El salario de María es: 600\n",
      "El salario de Pedro es: 2500\n"
     ]
    }
   ],
   "source": [
    "class Empleado:\n",
    "    def calcular_salario(self):\n",
    "        raise NotImplementedError(\"Este método debe ser implementado por las subclases.\")\n",
    "class EmpleadoAsalariado(Empleado):\n",
    "    def __init__(self, nombre, salario_fijo):\n",
    "        self.nombre = nombre\n",
    "        self.salario_fijo = salario_fijo\n",
    "    def calcular_salario(self):\n",
    "        return self.salario_fijo\n",
    "class EmpleadoPorHoras(Empleado):\n",
    "    def __init__(self, nombre, horas_trabajadas, tarifa_por_hora):\n",
    "        self.nombre = nombre\n",
    "        self.horas_trabajadas = horas_trabajadas\n",
    "        self.tarifa_por_hora = tarifa_por_hora\n",
    "    def calcular_salario(self):\n",
    "        return self.horas_trabajadas * self.tarifa_por_hora\n",
    "class EmpleadoComision(Empleado):\n",
    "    def __init__(self, nombre, salario_base, comision_ventas):\n",
    "        self.nombre = nombre\n",
    "        self.salario_base = salario_base\n",
    "        self.comision_ventas = comision_ventas\n",
    "    def calcular_salario(self):\n",
    "        return self.salario_base + self.comision_ventas\n",
    "# Crear una lista de empleados\n",
    "empleados = [\n",
    "    EmpleadoAsalariado(\"Juan\", 3000),\n",
    "    EmpleadoPorHoras(\"María\", 40, 15),\n",
    "    EmpleadoComision(\"Pedro\", 2000, 500)\n",
    "]\n",
    "# Calcular y mostrar el salario de cada empleado\n",
    "for empleado in empleados:\n",
    "    print(f\"El salario de {empleado.nombre} es: {empleado.calcular_salario()}\")"
   ]
  }
 ],
 "metadata": {
  "kernelspec": {
   "display_name": "Python 3",
   "language": "python",
   "name": "python3"
  },
  "language_info": {
   "codemirror_mode": {
    "name": "ipython",
    "version": 3
   },
   "file_extension": ".py",
   "mimetype": "text/x-python",
   "name": "python",
   "nbconvert_exporter": "python",
   "pygments_lexer": "ipython3",
   "version": "3.12.3"
  }
 },
 "nbformat": 4,
 "nbformat_minor": 2
}
