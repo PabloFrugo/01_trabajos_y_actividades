{
 "cells": [
  {
   "cell_type": "markdown",
   "metadata": {},
   "source": [
    "1 - Imprimir los núemros del 1 al 20 utilizando un bucle for."
   ]
  },
  {
   "cell_type": "code",
   "execution_count": 1,
   "metadata": {},
   "outputs": [
    {
     "name": "stdout",
     "output_type": "stream",
     "text": [
      "1\n",
      "2\n",
      "3\n",
      "4\n",
      "5\n",
      "6\n",
      "7\n",
      "8\n",
      "9\n",
      "10\n",
      "11\n",
      "12\n",
      "13\n",
      "14\n",
      "15\n",
      "16\n",
      "17\n",
      "18\n",
      "19\n",
      "20\n"
     ]
    }
   ],
   "source": [
    "for i in range(1, 21):\n",
    "    print(i)"
   ]
  },
  {
   "cell_type": "markdown",
   "metadata": {},
   "source": [
    "2 - Imprimir los números pares del 1 al 20 utilizando un bucle while."
   ]
  },
  {
   "cell_type": "code",
   "execution_count": 16,
   "metadata": {},
   "outputs": [
    {
     "name": "stdout",
     "output_type": "stream",
     "text": [
      "2\n",
      "4\n",
      "6\n",
      "8\n",
      "10\n",
      "12\n",
      "14\n",
      "16\n",
      "18\n",
      "20\n"
     ]
    }
   ],
   "source": [
    "num = 2\n",
    "while True:\n",
    "    if num == 22:\n",
    "        break\n",
    "    print(num)\n",
    "    num += 2\n",
    "    "
   ]
  },
  {
   "cell_type": "markdown",
   "metadata": {},
   "source": [
    "3 - Imprimir los números impares del 1 al 30 utilizando un bucle for."
   ]
  },
  {
   "cell_type": "code",
   "execution_count": 17,
   "metadata": {},
   "outputs": [
    {
     "name": "stdout",
     "output_type": "stream",
     "text": [
      "1\n",
      "3\n",
      "5\n",
      "7\n",
      "9\n",
      "11\n",
      "13\n",
      "15\n",
      "17\n",
      "19\n",
      "21\n",
      "23\n",
      "25\n",
      "27\n",
      "29\n"
     ]
    }
   ],
   "source": [
    "for i in range(1, 31):\n",
    "    if i % 2 != 0:\n",
    "        print(i)"
   ]
  },
  {
   "cell_type": "markdown",
   "metadata": {},
   "source": [
    "4 - Ingresar un número por teclado y mostrar su tabla de multiplicar del 1 al 10."
   ]
  },
  {
   "cell_type": "code",
   "execution_count": 18,
   "metadata": {},
   "outputs": [
    {
     "name": "stdout",
     "output_type": "stream",
     "text": [
      "5 x 1 = 5\n",
      "5 x 2 = 10\n",
      "5 x 3 = 15\n",
      "5 x 4 = 20\n",
      "5 x 5 = 25\n",
      "5 x 6 = 30\n",
      "5 x 7 = 35\n",
      "5 x 8 = 40\n",
      "5 x 9 = 45\n",
      "5 x 10 = 50\n"
     ]
    }
   ],
   "source": [
    "num = int(input(\"Ingrese un número: \"))\n",
    "for i in range(1, 11):\n",
    "    print(f\"{num} x {i} = {num * i}\")"
   ]
  },
  {
   "cell_type": "markdown",
   "metadata": {},
   "source": [
    "5 - Imprimir los números del 1 al 100, para los múltiplos de 3, imprimir \"múltiplo de 3\", para los múltiplos de 5 imprimir \"múltiplo de 5\" y para los múltiiplos de 3 y 5 imprimir \"múltiplo de 3 y 5\"."
   ]
  },
  {
   "cell_type": "code",
   "execution_count": 62,
   "metadata": {},
   "outputs": [
    {
     "name": "stdout",
     "output_type": "stream",
     "text": [
      "1 - No aplica\n",
      "2 - No aplica\n",
      "3 - Múltiplo de 3\n",
      "4 - No aplica\n",
      "5 - Múltiplo de 5\n",
      "6 - Múltiplo de 3\n",
      "7 - No aplica\n",
      "8 - No aplica\n",
      "9 - Múltiplo de 3\n",
      "10 - Múltiplo de 5\n",
      "11 - No aplica\n",
      "12 - Múltiplo de 3\n",
      "13 - No aplica\n",
      "14 - No aplica\n",
      "15 - Múltiplo de 3 y 5\n",
      "16 - No aplica\n",
      "17 - No aplica\n",
      "18 - Múltiplo de 3\n",
      "19 - No aplica\n",
      "20 - Múltiplo de 5\n",
      "21 - Múltiplo de 3\n",
      "22 - No aplica\n",
      "23 - No aplica\n",
      "24 - Múltiplo de 3\n",
      "25 - Múltiplo de 5\n",
      "26 - No aplica\n",
      "27 - Múltiplo de 3\n",
      "28 - No aplica\n",
      "29 - No aplica\n",
      "30 - Múltiplo de 3 y 5\n",
      "31 - No aplica\n",
      "32 - No aplica\n",
      "33 - Múltiplo de 3\n",
      "34 - No aplica\n",
      "35 - Múltiplo de 5\n",
      "36 - Múltiplo de 3\n",
      "37 - No aplica\n",
      "38 - No aplica\n",
      "39 - Múltiplo de 3\n",
      "40 - Múltiplo de 5\n",
      "41 - No aplica\n",
      "42 - Múltiplo de 3\n",
      "43 - No aplica\n",
      "44 - No aplica\n",
      "45 - Múltiplo de 3 y 5\n",
      "46 - No aplica\n",
      "47 - No aplica\n",
      "48 - Múltiplo de 3\n",
      "49 - No aplica\n",
      "50 - Múltiplo de 5\n",
      "51 - Múltiplo de 3\n",
      "52 - No aplica\n",
      "53 - No aplica\n",
      "54 - Múltiplo de 3\n",
      "55 - Múltiplo de 5\n",
      "56 - No aplica\n",
      "57 - Múltiplo de 3\n",
      "58 - No aplica\n",
      "59 - No aplica\n",
      "60 - Múltiplo de 3 y 5\n",
      "61 - No aplica\n",
      "62 - No aplica\n",
      "63 - Múltiplo de 3\n",
      "64 - No aplica\n",
      "65 - Múltiplo de 5\n",
      "66 - Múltiplo de 3\n",
      "67 - No aplica\n",
      "68 - No aplica\n",
      "69 - Múltiplo de 3\n",
      "70 - Múltiplo de 5\n",
      "71 - No aplica\n",
      "72 - Múltiplo de 3\n",
      "73 - No aplica\n",
      "74 - No aplica\n",
      "75 - Múltiplo de 3 y 5\n",
      "76 - No aplica\n",
      "77 - No aplica\n",
      "78 - Múltiplo de 3\n",
      "79 - No aplica\n",
      "80 - Múltiplo de 5\n",
      "81 - Múltiplo de 3\n",
      "82 - No aplica\n",
      "83 - No aplica\n",
      "84 - Múltiplo de 3\n",
      "85 - Múltiplo de 5\n",
      "86 - No aplica\n",
      "87 - Múltiplo de 3\n",
      "88 - No aplica\n",
      "89 - No aplica\n",
      "90 - Múltiplo de 3 y 5\n",
      "91 - No aplica\n",
      "92 - No aplica\n",
      "93 - Múltiplo de 3\n",
      "94 - No aplica\n",
      "95 - Múltiplo de 5\n",
      "96 - Múltiplo de 3\n",
      "97 - No aplica\n",
      "98 - No aplica\n",
      "99 - Múltiplo de 3\n",
      "100 - Múltiplo de 5\n"
     ]
    }
   ],
   "source": [
    "for i in range(1, 101):\n",
    "    if i % 3 == 0 and i % 5 == 0:\n",
    "        print(f\"{i} - Múltiplo de 3 y 5\")\n",
    "    elif i % 3 == 0:\n",
    "        print(f\"{i} - Múltiplo de 3\")\n",
    "    elif i % 5 == 0:\n",
    "        print(f\"{i} - Múltiplo de 5\")\n",
    "    else:\n",
    "        print(f\"{i} - No aplica\")\n"
   ]
  },
  {
   "cell_type": "markdown",
   "metadata": {},
   "source": [
    "6 - Ingresar un número por teclado e imprimir si es número primo o no."
   ]
  },
  {
   "cell_type": "code",
   "execution_count": 38,
   "metadata": {},
   "outputs": [
    {
     "name": "stdout",
     "output_type": "stream",
     "text": [
      "El número 7 es primo\n"
     ]
    }
   ],
   "source": [
    "num = int(input(\"Ingrese un número: \"))\n",
    "x = 1\n",
    "c = 0\n",
    "while x <= num:\n",
    "    if num % x == 0:\n",
    "        c = c + 1\n",
    "    x = x + 1\n",
    "if c == 2:\n",
    "    print(f\"El número {num} es primo\")\n",
    "else:\n",
    "    print(f\"El número {num} no es primo\")"
   ]
  },
  {
   "cell_type": "markdown",
   "metadata": {},
   "source": [
    "7 - A partir de una lista vacía, utilizar un ciclo while para cargar allí números negativos del -20 al -1."
   ]
  },
  {
   "cell_type": "code",
   "execution_count": 41,
   "metadata": {},
   "outputs": [
    {
     "name": "stdout",
     "output_type": "stream",
     "text": [
      "[-20, -19, -18, -17, -16, -15, -14, -13, -12, -11, -10, -9, -8, -7, -6, -5, -4, -3, -2, -1]\n"
     ]
    }
   ],
   "source": [
    "lista = []\n",
    "num = -21\n",
    "while num != -1:\n",
    "    num = num + 1\n",
    "    lista.append(num)\n",
    "print(lista)"
   ]
  },
  {
   "cell_type": "markdown",
   "metadata": {},
   "source": [
    "8 - A partir de la variable cadena, mostrar en qué posiciones aparece la lentra \"n\" cadena = \"Hola Politécnico. Esto es una práctica programación con Python\"."
   ]
  },
  {
   "cell_type": "code",
   "execution_count": 50,
   "metadata": {},
   "outputs": [
    {
     "name": "stdout",
     "output_type": "stream",
     "text": [
      "12\n",
      "27\n",
      "50\n",
      "54\n",
      "61\n"
     ]
    }
   ],
   "source": [
    "cadena = \"Hola Politécnico. Esto es una práctica programación con Python\"\n",
    "for i in range(len(cadena)):\n",
    "    if cadena[i] == 'n':\n",
    "        print(i)"
   ]
  },
  {
   "cell_type": "markdown",
   "metadata": {},
   "source": [
    "9 - Convertir en una lista la variable \"cadena\" del punto 8 y luego recorrerla con un iterador."
   ]
  },
  {
   "cell_type": "code",
   "execution_count": 53,
   "metadata": {},
   "outputs": [
    {
     "name": "stdout",
     "output_type": "stream",
     "text": [
      "H\n",
      "o\n",
      "l\n",
      "a\n",
      " \n",
      "P\n",
      "o\n",
      "l\n",
      "i\n",
      "t\n",
      "é\n",
      "c\n",
      "n\n",
      "i\n",
      "c\n",
      "o\n",
      ".\n",
      " \n",
      "E\n",
      "s\n",
      "t\n",
      "o\n",
      " \n",
      "e\n",
      "s\n",
      " \n",
      "u\n",
      "n\n",
      "a\n",
      " \n",
      "p\n",
      "r\n",
      "á\n",
      "c\n",
      "t\n",
      "i\n",
      "c\n",
      "a\n",
      " \n",
      "p\n",
      "r\n",
      "o\n",
      "g\n",
      "r\n",
      "a\n",
      "m\n",
      "a\n",
      "c\n",
      "i\n",
      "ó\n",
      "n\n",
      " \n",
      "c\n",
      "o\n",
      "n\n",
      " \n",
      "P\n",
      "y\n",
      "t\n",
      "h\n",
      "o\n",
      "n\n"
     ]
    }
   ],
   "source": [
    "cadena = \"Hola Politécnico. Esto es una práctica programación con Python\"\n",
    "list(cadena)\n",
    "for i in cadena:\n",
    "    print(i)"
   ]
  },
  {
   "cell_type": "markdown",
   "metadata": {},
   "source": [
    "10 - A partir de la siguiente lista de números, crear una lista nueva sólo si el número es divisible por 5. lista1 = [18, 25, 29, 32, 35, 42, 50, 60, 63, 100]"
   ]
  },
  {
   "cell_type": "code",
   "execution_count": 57,
   "metadata": {},
   "outputs": [
    {
     "name": "stdout",
     "output_type": "stream",
     "text": [
      "[25, 35, 50, 60, 100]\n"
     ]
    }
   ],
   "source": [
    "lista1 = [18, 25, 29, 32, 35, 42, 50, 60, 63, 100]\n",
    "lista2 = []\n",
    "for i in lista1:\n",
    "    if i % 5 == 0:\n",
    "        lista2.append(i)\n",
    "print(lista2)"
   ]
  },
  {
   "cell_type": "markdown",
   "metadata": {},
   "source": [
    "11 - Imprimir los números primos del 1 al 100."
   ]
  },
  {
   "cell_type": "code",
   "execution_count": null,
   "metadata": {},
   "outputs": [
    {
     "name": "stdout",
     "output_type": "stream",
     "text": [
      "2\n",
      "3\n",
      "5\n",
      "7\n",
      "11\n",
      "13\n",
      "17\n",
      "19\n",
      "23\n",
      "29\n",
      "31\n",
      "37\n",
      "41\n",
      "43\n",
      "47\n",
      "53\n",
      "59\n",
      "61\n",
      "67\n",
      "71\n",
      "73\n",
      "79\n",
      "83\n",
      "89\n",
      "97\n"
     ]
    }
   ],
   "source": [
    "num = 1\n",
    "while num <= 100: \n",
    "    contador = 1 \n",
    "    x = 0 #Para llevar registro de cuantas veces se divide el número, los primos solo pueden dividirse por si mismo y por uno (2).\n",
    "    while contador <= num:\n",
    "        if num % contador == 0: \n",
    "            x = x + 1 \n",
    "        contador = contador + 1\n",
    "    if x == 2:\n",
    "        print(num) #Imprime los números primos en la pantalla.\n",
    "    num = num + 1 #Para que el valor aumente y el algoritmo no quede en un ciclo infinito."
   ]
  },
  {
   "cell_type": "markdown",
   "metadata": {},
   "source": [
    "12 - Imprimir los números del 10 al 1 utilizando un bucle while."
   ]
  },
  {
   "cell_type": "code",
   "execution_count": 64,
   "metadata": {},
   "outputs": [
    {
     "name": "stdout",
     "output_type": "stream",
     "text": [
      "10\n",
      "9\n",
      "8\n",
      "7\n",
      "6\n",
      "5\n",
      "4\n",
      "3\n",
      "2\n",
      "1\n"
     ]
    }
   ],
   "source": [
    "num = 10\n",
    "while num > 0:\n",
    "    print(num)\n",
    "    num = num - 1"
   ]
  },
  {
   "cell_type": "markdown",
   "metadata": {},
   "source": [
    "13 - Imprimir los números del 1 al 30, no mostrando los que son múltiplos de 3."
   ]
  },
  {
   "cell_type": "code",
   "execution_count": 65,
   "metadata": {},
   "outputs": [
    {
     "name": "stdout",
     "output_type": "stream",
     "text": [
      "1\n",
      "2\n",
      "4\n",
      "5\n",
      "7\n",
      "8\n",
      "10\n",
      "11\n",
      "13\n",
      "14\n",
      "16\n",
      "17\n",
      "19\n",
      "20\n",
      "22\n",
      "23\n",
      "25\n",
      "26\n",
      "28\n",
      "29\n"
     ]
    }
   ],
   "source": [
    "for i in range(1, 31):\n",
    "    if i % 3 == 0:\n",
    "        continue\n",
    "    print(i)"
   ]
  },
  {
   "cell_type": "markdown",
   "metadata": {},
   "source": [
    "14 - Ingresar una cadena por teclado y contar la cantidad de letras \"a\" que aparecen en la misma. Imprimir la cadena y la cantidad de \"a\" que aparecen."
   ]
  },
  {
   "cell_type": "code",
   "execution_count": 69,
   "metadata": {},
   "outputs": [
    {
     "name": "stdout",
     "output_type": "stream",
     "text": [
      "Buenas tardes amigos, quiero comprar un sanguche.\n",
      "La cantidad de veces que aparece la letra 'a' es de: 5\n"
     ]
    }
   ],
   "source": [
    "cadena = str(input(\"Ingrese una cadena de texto: \"))\n",
    "print(cadena)\n",
    "print(f\"La cantidad de veces que aparece la letra 'a' es de: {cadena.count(\"a\")}\")"
   ]
  },
  {
   "cell_type": "markdown",
   "metadata": {},
   "source": [
    "15 - Dada una lista de marcas de vehículos - marcas = ['Ford', 'Renault', 'Peugeot', 'Audi', 'Toyota'], recorrer la lista con un bucle for y en caso de que la marca sea 'Audi' salir del bucle."
   ]
  },
  {
   "cell_type": "code",
   "execution_count": 71,
   "metadata": {},
   "outputs": [
    {
     "name": "stdout",
     "output_type": "stream",
     "text": [
      "Ford\n",
      "Renault\n",
      "Peugeot\n"
     ]
    }
   ],
   "source": [
    "marcas = [\"Ford\", \"Renault\", \"Peugeot\", \"Audi\", \"Toyota\"]\n",
    "for i in marcas:\n",
    "    if i == \"Audi\":\n",
    "        break\n",
    "    print(i)"
   ]
  }
 ],
 "metadata": {
  "kernelspec": {
   "display_name": "Python 3",
   "language": "python",
   "name": "python3"
  },
  "language_info": {
   "codemirror_mode": {
    "name": "ipython",
    "version": 3
   },
   "file_extension": ".py",
   "mimetype": "text/x-python",
   "name": "python",
   "nbconvert_exporter": "python",
   "pygments_lexer": "ipython3",
   "version": "3.12.3"
  }
 },
 "nbformat": 4,
 "nbformat_minor": 2
}
