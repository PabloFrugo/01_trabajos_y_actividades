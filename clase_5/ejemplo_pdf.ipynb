{
 "cells": [
  {
   "cell_type": "code",
   "execution_count": 1,
   "metadata": {},
   "outputs": [
    {
     "name": "stdout",
     "output_type": "stream",
     "text": [
      "Producto: Camisa - Stock: 50\n",
      "El producto Camisa tiene un stock suficiente.\n",
      "------------------------------\n",
      "Producto: Pantalón - Stock: 30\n",
      "------------------------------\n",
      "Producto: Zapatos - Stock: 20\n",
      "------------------------------\n",
      "Producto: Gorra - Stock: 10\n",
      "¡Alerta! El producto Gorra tiene un stock bajo. Se recomienda reponer.\n",
      "------------------------------\n",
      "Proceso de gestión de inventario finalizado\n"
     ]
    }
   ],
   "source": [
    "# Ejemplo de Gestión de Inventario en Python\n",
    "\n",
    "# Definimos una lista de productos con su respectivo stock\n",
    "\n",
    "inventario = {\n",
    "    \"Camisa\": 50,\n",
    "    \"Pantalón\": 30,\n",
    "    \"Zapatos\": 20,\n",
    "    \"Gorra\": 10\n",
    "}\n",
    "\n",
    "# Iteramos sobre el inventario para reqalizar acciones específicas\n",
    "for producto, stock in inventario.items():\n",
    "    print(f\"Producto: {producto} - Stock: {stock}\")\n",
    "\n",
    "    # Control de flujo para productos con stock bajo\n",
    "    if stock < 20:\n",
    "        print(f\"¡Alerta! El producto {producto} tiene un stock bajo. Se recomienda reponer.\")\n",
    "    \n",
    "    # Control de flujo para productos agotados\n",
    "    if stock == 0:\n",
    "        print(f\"¡Alerta! el producto {producto} está agotado. Por favor, gestionar la reposición.\")\n",
    "\n",
    "    # Control de flujo para productos con stock suficiente\n",
    "    if stock > 30:\n",
    "        print(f\"El producto {producto} tiene un stock suficiente.\")\n",
    "    \n",
    "    print(\"------------------------------\")\n",
    "\n",
    "print(\"Proceso de gestión de inventario finalizado\")"
   ]
  }
 ],
 "metadata": {
  "kernelspec": {
   "display_name": "Python 3",
   "language": "python",
   "name": "python3"
  },
  "language_info": {
   "codemirror_mode": {
    "name": "ipython",
    "version": 3
   },
   "file_extension": ".py",
   "mimetype": "text/x-python",
   "name": "python",
   "nbconvert_exporter": "python",
   "pygments_lexer": "ipython3",
   "version": "3.12.3"
  }
 },
 "nbformat": 4,
 "nbformat_minor": 2
}
