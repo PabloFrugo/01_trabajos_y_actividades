{
 "cells": [
  {
   "cell_type": "markdown",
   "metadata": {},
   "source": [
    "1 - Crear una superclase \"Vehículo\" y subclases \"Auto\" y \"Bicicleta\" que hereden atributos y métodos de \"Vehículo\"."
   ]
  },
  {
   "cell_type": "code",
   "execution_count": null,
   "metadata": {},
   "outputs": [],
   "source": [
    "class Vehículo:\n",
    "    def __init__(self, marca, modelo):\n",
    "        self.marca = marca\n",
    "        self.modelo = modelo\n",
    "    def info(self):\n",
    "        print(f\"La marca del vehículo es {self.marca} y el modelo es {self.modelo}.\")\n",
    "\n",
    "class Auto(Vehículo):\n",
    "    def __init__(self, marca, modelo, color, velocidad):\n",
    "        super().__init__(marca, modelo)\n",
    "        self.color = color\n",
    "        self.velocidad = velocidad\n",
    "    def info(self):\n",
    "        print(f\"El auto es de la marca {self.marca} y su modelo es {self.modelo}, es de color {self.color} y alcanza una velocidad punta de {self.velocidad}Km/h.\")\n",
    "\n",
    "class Bicicleta(Vehículo):\n",
    "    def __init__(self, marca, modelo, tipo):\n",
    "        super().__init__(marca, modelo)\n",
    "        self.tipo = tipo\n",
    "    def data(self):\n",
    "        print(f\"Marca: {self.marca}\\nModelo: {self.modelo}\\nTipo: {self.tipo}\")"
   ]
  },
  {
   "cell_type": "markdown",
   "metadata": {},
   "source": [
    "2 - Define una clase llamada \"Vehículo_2\" con los siguientes atributos:\n",
    "    nombre - almacena el nombre del vehículo\n",
    "    velocidad_maxima - almacena la velocidad máxima en Km/h\n",
    "    capacidad_pasajeros - almacena la capacidad de pasajeros\n",
    "\n",
    "    Crear dos clases derivadas que representen tipos de vehículos:\n",
    "    Automovil_1 - debe heredad de Vehículo_2, agregar un atributo \"combustible\" para indicar el tipo de combustible (nafta, diésel)\n",
    "    Bicicleta_1 - debe heredad de Vehículo_2, agregar un atributo \"tipo\" para indicar el tipo de bicicleta (montaña, bmx)\n",
    "\n",
    "    Agregar métodos a cada clase para que puedas obtener información sobre el vehículo (método llamado \"informacion\" que imprima los atributos del vehículo)\n",
    "\n",
    "    Crear instancias de cada tipo de vehículo y utilzar sus métodos para impirmir información sobre ellos."
   ]
  },
  {
   "cell_type": "code",
   "execution_count": 5,
   "metadata": {},
   "outputs": [
    {
     "name": "stdout",
     "output_type": "stream",
     "text": [
      "Nobre: El Rayo McQueen\n",
      "Velocidad Máxima: 320Km/h\n",
      "Capacidad de pasajeros: 2\n",
      "\n",
      "Nobre: La Reina Madre\n",
      "Velocidad Máxima: 160Km/h\n",
      "Capacidad de pasajeros: 8\n",
      "Tipo de Combustible: Diésel\n",
      "\n",
      "Nobre: Azuleta\n",
      "Velocidad Máxima: 30Km/h\n",
      "Capacidad de pasajeros: 1\n",
      "Tipo: BMX\n"
     ]
    }
   ],
   "source": [
    "class Vehículo_2:\n",
    "    def __init__(self, nombre, velocidad_maxima, capacidad_pasajeros):\n",
    "        self.nombre = nombre\n",
    "        self.velocidad_maxima = velocidad_maxima\n",
    "        self.capacidad_pasajeros = capacidad_pasajeros\n",
    "    def informacion(self):\n",
    "        print(f\"Nobre: {self.nombre}\\nVelocidad Máxima: {self.velocidad_maxima}\\nCapacidad de pasajeros: {self.capacidad_pasajeros}\")\n",
    "\n",
    "class Automovil_1(Vehículo_2):\n",
    "    def __init__(self, nombre, velocidad_maxima, capacidad_pasajeros, combustible):\n",
    "        super().__init__(nombre, velocidad_maxima, capacidad_pasajeros)\n",
    "        self.combustible = combustible\n",
    "    def informacion(self):\n",
    "        print(f\"Nobre: {self.nombre}\\nVelocidad Máxima: {self.velocidad_maxima}\\nCapacidad de pasajeros: {self.capacidad_pasajeros}\\nTipo de Combustible: {self.combustible}\")\n",
    "\n",
    "class Bicicleta_1(Vehículo_2):\n",
    "    def __init__(self, nombre, velocidad_maxima, capacidad_pasajeros, tipo):\n",
    "        super().__init__(nombre, velocidad_maxima, capacidad_pasajeros)\n",
    "        self.tipo = tipo\n",
    "    def informacion(self):\n",
    "        print(f\"Nobre: {self.nombre}\\nVelocidad Máxima: {self.velocidad_maxima}\\nCapacidad de pasajeros: {self.capacidad_pasajeros}\\nTipo: {self.tipo}\")\n",
    "\n",
    "coche = Vehículo_2(\"El Rayo McQueen\", \"320Km/h\", 2)\n",
    "auto = Automovil_1(\"La Reina Madre\", \"160Km/h\", 8, \"Diésel\")\n",
    "bici = Bicicleta_1(\"Azuleta\", \"30Km/h\", 1, \"BMX\")\n",
    "\n",
    "coche.informacion()\n",
    "print()\n",
    "auto.informacion()\n",
    "print()\n",
    "bici.informacion()"
   ]
  },
  {
   "cell_type": "markdown",
   "metadata": {},
   "source": [
    "3 - Crea una clase llamada \"CuentaBancaria\" que represente una cuenta de ahorros. La calse debe tener los siguientes atributos:\n",
    "titular(cadena) - el títular de la cuenta.\n",
    "saldo(decimal) - el saldo actual de la cuenta\n",
    "num_cuenta(cadena) - el número de cuenta\n",
    "\n",
    "La clase debe proporcionar los siguientes métodos públicos:\n",
    "init(self,titular,saldo_inicial) - un constructor que inicializa la cuenta con el nombre del titular y un saldo inicial.\n",
    "depositar(self,monto) - un método que permite al titular de la cuenta depositar una cantidad en la cuenta.\n",
    "extraer(self,monto) - un método que permite al titular de la cuenta retirar una cantidad de la cuenta, siempre y cuando haya saldo suficiente.\n",
    "consultar_saldo(self) - un método que muestre el saldo actual de la cuenta."
   ]
  },
  {
   "cell_type": "code",
   "execution_count": 27,
   "metadata": {},
   "outputs": [
    {
     "name": "stdout",
     "output_type": "stream",
     "text": [
      "El saldo de la cuenta de Juan es de 25000.\n",
      "Se han depositado 5000 pesos a la cuenta de Juan.\n",
      "Se ha extraído 15000 pesos de la cuenta de Juan.\n",
      "El saldo de la cuenta de Juan es de 15000.\n"
     ]
    }
   ],
   "source": [
    "class CuentaBancaria:\n",
    "    def __init__(self, titular, saldo, num_cuenta):\n",
    "        self.titular = titular\n",
    "        self.saldo = saldo\n",
    "        self.num_cuenta = num_cuenta\n",
    "\n",
    "    def init(self, titular, saldo_inicial):\n",
    "        self.titular = titular\n",
    "        self.saldo_inicial = saldo_inicial\n",
    "        print(f\"Se ha iniciado la cuenta de {self.titular} con un saldo de {self.saldo_inicial} pesos.\")\n",
    "\n",
    "    def depositar(self, monto):\n",
    "        self.monto = monto\n",
    "        if monto > 0:\n",
    "            self.saldo += monto\n",
    "            print(f\"Se han depositado {monto} pesos a la cuenta de {self.titular}.\")\n",
    "        else:\n",
    "            print(\"El monto a despositar no puede ser igual o menor a cero.\")    \n",
    "    \n",
    "    def extraer(self, monto):\n",
    "        self.monto = monto\n",
    "        if monto <= self.saldo:\n",
    "            self.saldo -= monto\n",
    "            print(f\"Se ha extraído {monto} pesos de la cuenta de {self.titular}.\")\n",
    "        elif monto > self.saldo:\n",
    "            print(\"Los fondos son insuficientes para relalizar la extracción.\")\n",
    "        else:\n",
    "            print(\"El monto a extraer no puede ser igual o menor a cero.\")\n",
    "\n",
    "    def consultar_saldo(self):\n",
    "        print(f\"El saldo de la cuenta de {self.titular} es de {self.saldo}.\")\n",
    "\n",
    "usuario = CuentaBancaria(\"Juan\", 25000, \"1234567890\")\n",
    "usuario.consultar_saldo()\n",
    "usuario.depositar(5000)\n",
    "usuario.extraer(15000)\n",
    "usuario.consultar_saldo()"
   ]
  }
 ],
 "metadata": {
  "kernelspec": {
   "display_name": "Python 3",
   "language": "python",
   "name": "python3"
  },
  "language_info": {
   "codemirror_mode": {
    "name": "ipython",
    "version": 3
   },
   "file_extension": ".py",
   "mimetype": "text/x-python",
   "name": "python",
   "nbconvert_exporter": "python",
   "pygments_lexer": "ipython3",
   "version": "3.12.3"
  }
 },
 "nbformat": 4,
 "nbformat_minor": 2
}
