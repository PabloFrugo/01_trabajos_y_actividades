{
 "cells": [
  {
   "cell_type": "markdown",
   "metadata": {},
   "source": [
    "1 - Crear un diccionario que contenga nombre, edad y carrera de un alumno y mostrar el diccionario completo."
   ]
  },
  {
   "cell_type": "code",
   "execution_count": 59,
   "metadata": {},
   "outputs": [
    {
     "name": "stdout",
     "output_type": "stream",
     "text": [
      "{'Nombre': 'Pablo', 'Edad': 31, 'Carrera': 'Ciencia de datos e Inteligencia Artificial'}\n"
     ]
    }
   ],
   "source": [
    "alumno = {\"Nombre\": \"Pablo\", \"Edad\": 31, \"Carrera\": \"Ciencia de datos e Inteligencia Artificial\"}\n",
    "print(alumno)"
   ]
  },
  {
   "cell_type": "markdown",
   "metadata": {},
   "source": [
    "2 - Utilizar el método get para mostrar el valor de la clave nombre."
   ]
  },
  {
   "cell_type": "code",
   "execution_count": 60,
   "metadata": {},
   "outputs": [
    {
     "data": {
      "text/plain": [
       "'Pablo'"
      ]
     },
     "execution_count": 60,
     "metadata": {},
     "output_type": "execute_result"
    }
   ],
   "source": [
    "alumno.get(\"Nombre\")"
   ]
  },
  {
   "cell_type": "markdown",
   "metadata": {},
   "source": [
    "3 - Cambiar la edad del alumno y mostrar el diccionario completo."
   ]
  },
  {
   "cell_type": "code",
   "execution_count": 61,
   "metadata": {},
   "outputs": [
    {
     "name": "stdout",
     "output_type": "stream",
     "text": [
      "{'Nombre': 'Pablo', 'Edad': 25, 'Carrera': 'Ciencia de datos e Inteligencia Artificial'}\n"
     ]
    }
   ],
   "source": [
    "alumno[\"Edad\"] = 25\n",
    "print(alumno)"
   ]
  },
  {
   "cell_type": "markdown",
   "metadata": {},
   "source": [
    "4 - Agregar un par clave/valor que contenga el sexo del alumno. Mostrar el diccionario completo."
   ]
  },
  {
   "cell_type": "code",
   "execution_count": 62,
   "metadata": {},
   "outputs": [
    {
     "name": "stdout",
     "output_type": "stream",
     "text": [
      "{'Nombre': 'Pablo', 'Edad': 25, 'Carrera': 'Ciencia de datos e Inteligencia Artificial', 'Sexo': 'Masculino'}\n"
     ]
    }
   ],
   "source": [
    "alumno[\"Sexo\"] = \"Masculino\"\n",
    "print(alumno)"
   ]
  },
  {
   "cell_type": "markdown",
   "metadata": {},
   "source": [
    "5 - Usar el metodo pop() para remover la edad del alumno. Mostrar el diccionario compelto."
   ]
  },
  {
   "cell_type": "code",
   "execution_count": 63,
   "metadata": {},
   "outputs": [
    {
     "name": "stdout",
     "output_type": "stream",
     "text": [
      "{'Nombre': 'Pablo', 'Carrera': 'Ciencia de datos e Inteligencia Artificial', 'Sexo': 'Masculino'}\n"
     ]
    }
   ],
   "source": [
    "alumno.pop(\"Edad\")\n",
    "print(alumno)"
   ]
  },
  {
   "cell_type": "markdown",
   "metadata": {},
   "source": [
    "6 - Crear un diccionario que contenga las notas de un alumno en tres materias. Las materias son programación II, Ciencia de datos y Programación I."
   ]
  },
  {
   "cell_type": "code",
   "execution_count": 64,
   "metadata": {},
   "outputs": [],
   "source": [
    "calificaciones = {\"Programación II\": 8, \"Ciencia de datos\": 9, \"Promgramación I\": 10}"
   ]
  },
  {
   "cell_type": "markdown",
   "metadata": {},
   "source": [
    "7 - Mostrar todos los items del ciccionario de notas."
   ]
  },
  {
   "cell_type": "code",
   "execution_count": 65,
   "metadata": {},
   "outputs": [
    {
     "data": {
      "text/plain": [
       "dict_items([('Programación II', 8), ('Ciencia de datos', 9), ('Promgramación I', 10)])"
      ]
     },
     "execution_count": 65,
     "metadata": {},
     "output_type": "execute_result"
    }
   ],
   "source": [
    "calificaciones.items()"
   ]
  },
  {
   "cell_type": "markdown",
   "metadata": {},
   "source": [
    "8 - Crear un nuevo diccionario que sea una copia del diccionario de notas del alumno. Mostrar los datos del nuevo diccionario."
   ]
  },
  {
   "cell_type": "code",
   "execution_count": 66,
   "metadata": {},
   "outputs": [
    {
     "name": "stdout",
     "output_type": "stream",
     "text": [
      "{'Programación II': 8, 'Ciencia de datos': 9, 'Promgramación I': 10}\n"
     ]
    }
   ],
   "source": [
    "notas = calificaciones.copy()\n",
    "print(notas)"
   ]
  },
  {
   "cell_type": "markdown",
   "metadata": {},
   "source": [
    "9 - Mostrar los valores del diccionario de notas."
   ]
  },
  {
   "cell_type": "code",
   "execution_count": 67,
   "metadata": {},
   "outputs": [
    {
     "data": {
      "text/plain": [
       "dict_values([8, 9, 10])"
      ]
     },
     "execution_count": 67,
     "metadata": {},
     "output_type": "execute_result"
    }
   ],
   "source": [
    "notas.values()"
   ]
  },
  {
   "cell_type": "markdown",
   "metadata": {},
   "source": [
    "10 - Mostrar la longitud del diccionario de notas."
   ]
  },
  {
   "cell_type": "code",
   "execution_count": 68,
   "metadata": {},
   "outputs": [
    {
     "name": "stdout",
     "output_type": "stream",
     "text": [
      "3\n"
     ]
    }
   ],
   "source": [
    "print(len(notas))"
   ]
  }
 ],
 "metadata": {
  "kernelspec": {
   "display_name": "Python 3",
   "language": "python",
   "name": "python3"
  },
  "language_info": {
   "codemirror_mode": {
    "name": "ipython",
    "version": 3
   },
   "file_extension": ".py",
   "mimetype": "text/x-python",
   "name": "python",
   "nbconvert_exporter": "python",
   "pygments_lexer": "ipython3",
   "version": "3.12.3"
  }
 },
 "nbformat": 4,
 "nbformat_minor": 2
}
