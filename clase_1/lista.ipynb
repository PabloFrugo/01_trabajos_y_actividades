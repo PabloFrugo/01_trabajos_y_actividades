{
 "cells": [
  {
   "cell_type": "markdown",
   "metadata": {},
   "source": [
    "1 - Crear una lista que contenga nombres de provincias Argentinas, que contenga más de 5 elementos e imprimir por pantalla."
   ]
  },
  {
   "cell_type": "code",
   "execution_count": 1,
   "metadata": {},
   "outputs": [
    {
     "name": "stdout",
     "output_type": "stream",
     "text": [
      "['Tierra del Fuego', 'Mendoza', 'Tucuman', 'Salta', 'Jujuy', 'Buenos Aires']\n"
     ]
    }
   ],
   "source": [
    "provincias = [\"Tierra del Fuego\", \"Mendoza\", \"Tucuman\", \"Salta\", \"Jujuy\", \"Buenos Aires\"]\n",
    "print(provincias)"
   ]
  },
  {
   "cell_type": "markdown",
   "metadata": {},
   "source": [
    "2 - Imprimir por pantalla el tercer elemento de la lista."
   ]
  },
  {
   "cell_type": "code",
   "execution_count": 2,
   "metadata": {},
   "outputs": [
    {
     "name": "stdout",
     "output_type": "stream",
     "text": [
      "Tucuman\n"
     ]
    }
   ],
   "source": [
    "print(provincias[2])"
   ]
  },
  {
   "cell_type": "markdown",
   "metadata": {},
   "source": [
    "3 - Imprimir por pantalla del segundo al cuarto elemento."
   ]
  },
  {
   "cell_type": "code",
   "execution_count": 3,
   "metadata": {},
   "outputs": [
    {
     "name": "stdout",
     "output_type": "stream",
     "text": [
      "['Mendoza', 'Tucuman', 'Salta']\n"
     ]
    }
   ],
   "source": [
    "print(provincias[1:4])"
   ]
  },
  {
   "cell_type": "markdown",
   "metadata": {},
   "source": [
    "4 - Mostrar el tipo de dato de la lista."
   ]
  },
  {
   "cell_type": "code",
   "execution_count": 4,
   "metadata": {},
   "outputs": [
    {
     "data": {
      "text/plain": [
       "list"
      ]
     },
     "execution_count": 4,
     "metadata": {},
     "output_type": "execute_result"
    }
   ],
   "source": [
    "type (provincias)"
   ]
  },
  {
   "cell_type": "markdown",
   "metadata": {},
   "source": [
    "5 - Mostrar los primeros 4 elementos de la lista."
   ]
  },
  {
   "cell_type": "code",
   "execution_count": 5,
   "metadata": {},
   "outputs": [
    {
     "name": "stdout",
     "output_type": "stream",
     "text": [
      "['Tierra del Fuego', 'Mendoza', 'Tucuman', 'Salta']\n"
     ]
    }
   ],
   "source": [
    "print(provincias[:4])"
   ]
  },
  {
   "cell_type": "markdown",
   "metadata": {},
   "source": [
    "6 - Agregar una provincia más a la lista que ya exista y otra que no."
   ]
  },
  {
   "cell_type": "code",
   "execution_count": 6,
   "metadata": {},
   "outputs": [
    {
     "name": "stdout",
     "output_type": "stream",
     "text": [
      "['Tierra del Fuego', 'Mendoza', 'Tucuman', 'Salta', 'Jujuy', 'Buenos Aires', 'Tierra del Fuego', 'Catamarca']\n"
     ]
    }
   ],
   "source": [
    "provincias.append(\"Tierra del Fuego\")\n",
    "provincias.append(\"Catamarca\")\n",
    "print(provincias)"
   ]
  },
  {
   "cell_type": "markdown",
   "metadata": {},
   "source": [
    "7 - Agregar una provincia, pero en la cuarta posicion."
   ]
  },
  {
   "cell_type": "code",
   "execution_count": 7,
   "metadata": {},
   "outputs": [
    {
     "name": "stdout",
     "output_type": "stream",
     "text": [
      "['Tierra del Fuego', 'Mendoza', 'Tucuman', 'San Juan', 'Salta', 'Jujuy', 'Buenos Aires', 'Tierra del Fuego', 'Catamarca']\n"
     ]
    }
   ],
   "source": [
    "provincias.insert(3,\"San Juan\")\n",
    "print(provincias)"
   ]
  },
  {
   "cell_type": "markdown",
   "metadata": {},
   "source": [
    "8 - Extender otra lista a la ya creada."
   ]
  },
  {
   "cell_type": "code",
   "execution_count": 8,
   "metadata": {},
   "outputs": [
    {
     "name": "stdout",
     "output_type": "stream",
     "text": [
      "['Tierra del Fuego', 'Mendoza', 'Tucuman', 'San Juan', 'Salta', 'Jujuy', 'Buenos Aires', 'Tierra del Fuego', 'Catamarca', 'Río Grande', 'Tolhuin', 'Ushuaia']\n"
     ]
    }
   ],
   "source": [
    "ciudades = [\"Río Grande\", \"Tolhuin\", \"Ushuaia\"]\n",
    "provincias.extend(ciudades)\n",
    "print(provincias)"
   ]
  },
  {
   "cell_type": "markdown",
   "metadata": {},
   "source": [
    "9 - Eliminar un elemento de la lista."
   ]
  },
  {
   "cell_type": "code",
   "execution_count": 9,
   "metadata": {},
   "outputs": [
    {
     "name": "stdout",
     "output_type": "stream",
     "text": [
      "['Tierra del Fuego', 'Mendoza', 'Tucuman', 'San Juan', 'Salta', 'Jujuy', 'Buenos Aires', 'Catamarca', 'Río Grande', 'Tolhuin', 'Ushuaia']\n"
     ]
    }
   ],
   "source": [
    "del[provincias[7]]\n",
    "print(provincias)"
   ]
  },
  {
   "cell_type": "markdown",
   "metadata": {},
   "source": [
    "10 - Extraer el último elemento de la lista, guardarlo en una variable e imprimirlo."
   ]
  },
  {
   "cell_type": "code",
   "execution_count": 10,
   "metadata": {},
   "outputs": [
    {
     "name": "stdout",
     "output_type": "stream",
     "text": [
      "Ushuaia\n"
     ]
    }
   ],
   "source": [
    "elemento = provincias.pop()\n",
    "print(elemento)"
   ]
  }
 ],
 "metadata": {
  "kernelspec": {
   "display_name": "Python 3",
   "language": "python",
   "name": "python3"
  },
  "language_info": {
   "codemirror_mode": {
    "name": "ipython",
    "version": 3
   },
   "file_extension": ".py",
   "mimetype": "text/x-python",
   "name": "python",
   "nbconvert_exporter": "python",
   "pygments_lexer": "ipython3",
   "version": "3.12.3"
  }
 },
 "nbformat": 4,
 "nbformat_minor": 2
}
