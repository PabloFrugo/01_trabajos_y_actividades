{
 "cells": [
  {
   "cell_type": "markdown",
   "metadata": {},
   "source": [
    "1 Ejercicio de Listas - crear una lista de 10 núemros enteros. Escribir una función que devuelva la suma de todos los números en la lista."
   ]
  },
  {
   "cell_type": "code",
   "execution_count": 15,
   "metadata": {},
   "outputs": [
    {
     "data": {
      "text/plain": [
       "55"
      ]
     },
     "execution_count": 15,
     "metadata": {},
     "output_type": "execute_result"
    }
   ],
   "source": [
    "lista = [1, 2, 3, 4, 5, 6, 7, 8, 9, 10]\n",
    "\n",
    "def suma_lista(lista):\n",
    "    suma = 0\n",
    "    for n in lista:\n",
    "        suma += n\n",
    "    return suma\n",
    "\n",
    "suma_lista(lista)\n"
   ]
  },
  {
   "cell_type": "markdown",
   "metadata": {},
   "source": [
    "2 Ejercicio de Tuplas - definir una tupla con 5 nombres de ciudades. Escribir una función que imprima cada ciudad en una línea separada."
   ]
  },
  {
   "cell_type": "code",
   "execution_count": 12,
   "metadata": {},
   "outputs": [
    {
     "name": "stdout",
     "output_type": "stream",
     "text": [
      "Río Grande\n",
      "Tolhuin\n",
      "Ushuaia\n",
      "Buenos Aires\n",
      "Viedma\n"
     ]
    }
   ],
   "source": [
    "ciudades = (\"Río Grande\", \"Tolhuin\", \"Ushuaia\", \"Buenos Aires\", \"Viedma\")\n",
    "\n",
    "def imprimir(ciudades):\n",
    "    for i in ciudades:\n",
    "        print(i)\n",
    "\n",
    "imprimir(ciudades)\n"
   ]
  },
  {
   "cell_type": "markdown",
   "metadata": {},
   "source": [
    "3 Ejercicio de Diccionario - crear un diccionario que contenga información sobre un libro (título, autor, año de publicación). Escribir una función que imprima la información del libro de manera formateada."
   ]
  },
  {
   "cell_type": "code",
   "execution_count": 22,
   "metadata": {},
   "outputs": [
    {
     "name": "stdout",
     "output_type": "stream",
     "text": [
      "Titulo : El mejor libro del mundo\n",
      "Autor : El Agente Misterio\n",
      "Año de publicación : 2020\n"
     ]
    }
   ],
   "source": [
    "diccionario = {\"Titulo\": \"El mejor libro del mundo\", \n",
    "               \"Autor\": \"El Agente Misterio\",\n",
    "               \"Año de publicación\": 2020}\n",
    "\n",
    "def info_libro(diccionario):\n",
    "    for a in diccionario:\n",
    "        print(a, \":\", diccionario[a])\n",
    "\n",
    "info_libro(diccionario)"
   ]
  },
  {
   "cell_type": "markdown",
   "metadata": {},
   "source": [
    "4 Ejercicio de Control de flujo - escribir un programa que pida al usuario un número y use un bucle for para imprimir todos los números desde 1 hasta ese número. Usar break para salir del bucle si se ingresa un número negativo."
   ]
  },
  {
   "cell_type": "code",
   "execution_count": 31,
   "metadata": {},
   "outputs": [
    {
     "name": "stdout",
     "output_type": "stream",
     "text": [
      "1\n",
      "2\n",
      "3\n"
     ]
    }
   ],
   "source": [
    "num = int(input(\"Ingrese un número positivo: \"))\n",
    "for i in range(1, num + 1):\n",
    "    if num > 0:\n",
    "        print(i)\n",
    "    elif num < 0:\n",
    "        break"
   ]
  },
  {
   "cell_type": "markdown",
   "metadata": {},
   "source": [
    "5 Ejercicio de Números Pares - crear una función que reciba una lista de números y devuelva una nueva lista que contenga solo los números pares. Utilizar continue para omitir los números impares."
   ]
  },
  {
   "cell_type": "code",
   "execution_count": 40,
   "metadata": {},
   "outputs": [
    {
     "name": "stdout",
     "output_type": "stream",
     "text": [
      "[2, 6, 12, 22, 30, 46, 60]\n"
     ]
    }
   ],
   "source": [
    "lista = [2, 6, 7, 9, 12, 15, 19, 22, 30, 46, 51, 55, 60]\n",
    "\n",
    "def num_pares(lista):\n",
    "    lista_pares = []\n",
    "    for i in lista:\n",
    "        if i % 2 != 0:\n",
    "            continue\n",
    "        lista_pares.append(i)\n",
    "    return lista_pares\n",
    "\n",
    "nueva_lista = num_pares(lista)\n",
    "print(nueva_lista)"
   ]
  },
  {
   "cell_type": "markdown",
   "metadata": {},
   "source": [
    "6 Ejercicio de Contador - escribir un programa que cuente cuántos números positivos y negativos hay en una lista dada. Utilizar un bucle for y condicionales."
   ]
  },
  {
   "cell_type": "code",
   "execution_count": 41,
   "metadata": {},
   "outputs": [
    {
     "name": "stdout",
     "output_type": "stream",
     "text": [
      "La cantidad de números positivos es de 6 y la cantidad de negativos es de 4\n"
     ]
    }
   ],
   "source": [
    "lista = [-20, 10, 2, -5, -10, 5, 18, 15, 20, -25]\n",
    "positivos = []\n",
    "negativos = []\n",
    "\n",
    "for i in lista:\n",
    "    if i > 0:\n",
    "        positivos.append(i)\n",
    "    elif i < 0:\n",
    "        negativos.append(i)\n",
    "\n",
    "print(f\"La cantidad de números positivos es de {len(positivos)} y la cantidad de negativos es de {len(negativos)}\")"
   ]
  },
  {
   "cell_type": "markdown",
   "metadata": {},
   "source": [
    "7 Ejercicio de Tuplas y Listas - crear una lista de tuplas, donde cada tupla contenga el nombre de un estudiante y su califiacción. Escribir una función que devuelva el nombre del estudiante con la calificación más alta."
   ]
  },
  {
   "cell_type": "code",
   "execution_count": 63,
   "metadata": {},
   "outputs": [
    {
     "name": "stdout",
     "output_type": "stream",
     "text": [
      "El estudiante con mejor promedio fue Ana con una calificación de 9\n"
     ]
    }
   ],
   "source": [
    "estudiantes = [(\"Pablo\", 8), (\"Ana\", 9), (\"Juan\", 7), (\"Luis\", 6)]\n",
    "\n",
    "def calificacion_alta(estudiantes):\n",
    "    nombre_alumno = \"\"\n",
    "    mejor_promedio = 0\n",
    "    for i, j in estudiantes:\n",
    "        if j > mejor_promedio:\n",
    "            nombre_alumno = i\n",
    "            mejor_promedio = j\n",
    "    return nombre_alumno, mejor_promedio\n",
    "\n",
    "alumno_con_mejor_promedio = calificacion_alta(estudiantes)\n",
    "print(f\"El estudiante con mejor promedio fue {alumno_con_mejor_promedio[0]} con una calificación de {alumno_con_mejor_promedio[1]}\")"
   ]
  }
 ],
 "metadata": {
  "kernelspec": {
   "display_name": "Python 3",
   "language": "python",
   "name": "python3"
  },
  "language_info": {
   "codemirror_mode": {
    "name": "ipython",
    "version": 3
   },
   "file_extension": ".py",
   "mimetype": "text/x-python",
   "name": "python",
   "nbconvert_exporter": "python",
   "pygments_lexer": "ipython3",
   "version": "3.12.3"
  }
 },
 "nbformat": 4,
 "nbformat_minor": 2
}
